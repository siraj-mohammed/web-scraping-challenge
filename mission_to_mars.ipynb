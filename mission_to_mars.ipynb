{
 "cells": [
  {
   "cell_type": "code",
   "execution_count": 1,
   "metadata": {},
   "outputs": [],
   "source": [
    "from splinter import Browser\n",
    "from bs4 import BeautifulSoup as bs\n",
    "import pandas as pd\n",
    "import requests\n",
    "import time"
   ]
  },
  {
   "cell_type": "code",
   "execution_count": 2,
   "metadata": {},
   "outputs": [],
   "source": [
    "executable_path = {'executable_path': 'chromedriver.exe'}"
   ]
  },
  {
   "cell_type": "code",
   "execution_count": 3,
   "metadata": {},
   "outputs": [],
   "source": [
    "#URLs to scrape\n",
    "nasa_url = \"https://mars.nasa.gov/news/?page=0&per_page=40&order=publish_date+desc%2Ccreated_at+desc&search=&category=19%2C165%2C184%2C204&blank_scope=Latest\"\n",
    "jpl_url = \"https://www.jpl.nasa.gov/spaceimages/?search=&category=Mars\"\n",
    "mars_weather_url = \"https://twitter.com/marswxreport?lang=en\"\n",
    "mars_facts_url = \"https://space-facts.com/mars/\"\n",
    "usgs_url = \"https://astrogeology.usgs.gov/search/results?q=hemisphere+enhanced&k1=target&v1=Mars\""
   ]
  },
  {
   "cell_type": "markdown",
   "metadata": {},
   "source": [
    "### Scraping NASA Mars News"
   ]
  },
  {
   "cell_type": "code",
   "execution_count": 4,
   "metadata": {},
   "outputs": [
    {
     "name": "stdout",
     "output_type": "stream",
     "text": [
      "NASA's Mars Rover Drivers Need Your Help\n",
      "Using an online tool to label Martian terrain types, you can train an artificial intelligence algorithm that could improve the way engineers guide the Curiosity rover.\n"
     ]
    }
   ],
   "source": [
    "browser = Browser('chrome', **executable_path, headless=False)\n",
    "browser.visit(nasa_url)\n",
    "time.sleep(2)\n",
    "html = browser.html\n",
    "soup = bs(html, 'lxml')\n",
    "# Grab the second title\n",
    "news_title = soup.find_all('div', class_=\"content_title\")[1].text\n",
    "# Grab the article text\n",
    "news_p = soup.find('div', class_='article_teaser_body').text\n",
    "browser.quit()\n",
    "\n",
    "print(f\"{news_title}\\n{news_p}\")"
   ]
  },
  {
   "cell_type": "markdown",
   "metadata": {},
   "source": [
    "### Scraping JPL for Featured Mars Image"
   ]
  },
  {
   "cell_type": "code",
   "execution_count": 6,
   "metadata": {},
   "outputs": [
    {
     "name": "stdout",
     "output_type": "stream",
     "text": [
      "https://jpl.nasa.gov/spaceimages/images/mediumsize/PIA18886_ip.jpg\n"
     ]
    }
   ],
   "source": [
    "browser = Browser('chrome', **executable_path, headless=False)\n",
    "browser.visit(jpl_url)\n",
    "browser.click_link_by_id('full_image')\n",
    "time.sleep(2)\n",
    "html = browser.html\n",
    "soup = bs(html, 'lxml')\n",
    "featured_image = soup.find('img', class_='fancybox-image').get('src')\n",
    "featured_image_url = 'https://jpl.nasa.gov'+featured_image\n",
    "browser.quit()\n",
    "\n",
    "print(featured_image_url)"
   ]
  },
  {
   "cell_type": "markdown",
   "metadata": {},
   "source": [
    "### Scraping Twitter for Mars Weather"
   ]
  },
  {
   "cell_type": "code",
   "execution_count": 7,
   "metadata": {},
   "outputs": [
    {
     "name": "stdout",
     "output_type": "stream",
     "text": [
      "Latest Mars Weather: InSight sol 549 (2020-06-12) low -91.8ºC (-133.3ºF) high -1.5ºC (29.3ºF)\n",
      "winds from the SW at 4.5 m/s (10.1 mph) gusting to 18.2 m/s (40.6 mph)\n",
      "pressure at 7.40 hPa\n"
     ]
    }
   ],
   "source": [
    "browser = Browser('chrome', **executable_path, headless=False)\n",
    "browser.visit(mars_weather_url)\n",
    "time.sleep(2)\n",
    "html = browser.html\n",
    "soup = bs(html, 'lxml')\n",
    "weather_tweets = soup.find_all('div', class_='css-901oao r-hkyrab r-1qd0xha r-a023e6 r-16dba41 r-ad9z0x r-bcqeeo r-bnwqim r-qvutc0')\n",
    "current_weather = weather_tweets[1].find('span', class_='css-901oao css-16my406 r-1qd0xha r-ad9z0x r-bcqeeo r-qvutc0').text\n",
    "browser.quit()\n",
    "\n",
    "print(f\"Latest Mars Weather: {current_weather}\")"
   ]
  },
  {
   "cell_type": "markdown",
   "metadata": {},
   "source": [
    "### Mars Facts"
   ]
  },
  {
   "cell_type": "code",
   "execution_count": 8,
   "metadata": {},
   "outputs": [
    {
     "name": "stdout",
     "output_type": "stream",
     "text": [
      "<table border=\"1\" class=\"dataframe\">\n",
      "  <tbody>\n",
      "    <tr>\n",
      "      <td>Equatorial Diameter:</td>\n",
      "      <td>6,792 km</td>\n",
      "    </tr>\n",
      "    <tr>\n",
      "      <td>Polar Diameter:</td>\n",
      "      <td>6,752 km</td>\n",
      "    </tr>\n",
      "    <tr>\n",
      "      <td>Mass:</td>\n",
      "      <td>6.39 × 10^23 kg (0.11 Earths)</td>\n",
      "    </tr>\n",
      "    <tr>\n",
      "      <td>Moons:</td>\n",
      "      <td>2 (Phobos &amp; Deimos)</td>\n",
      "    </tr>\n",
      "    <tr>\n",
      "      <td>Orbit Distance:</td>\n",
      "      <td>227,943,824 km (1.38 AU)</td>\n",
      "    </tr>\n",
      "    <tr>\n",
      "      <td>Orbit Period:</td>\n",
      "      <td>687 days (1.9 years)</td>\n",
      "    </tr>\n",
      "    <tr>\n",
      "      <td>Surface Temperature:</td>\n",
      "      <td>-87 to -5 °C</td>\n",
      "    </tr>\n",
      "    <tr>\n",
      "      <td>First Record:</td>\n",
      "      <td>2nd millennium BC</td>\n",
      "    </tr>\n",
      "    <tr>\n",
      "      <td>Recorded By:</td>\n",
      "      <td>Egyptian astronomers</td>\n",
      "    </tr>\n",
      "  </tbody>\n",
      "</table>\n"
     ]
    }
   ],
   "source": [
    "mars_tables = pd.read_html(mars_facts_url)\n",
    "mars_facts = mars_tables[0].to_html(header=False, index=False)\n",
    "\n",
    "print(mars_facts)"
   ]
  },
  {
   "cell_type": "markdown",
   "metadata": {},
   "source": [
    "### Mars Hemispheres"
   ]
  },
  {
   "cell_type": "code",
   "execution_count": 9,
   "metadata": {},
   "outputs": [
    {
     "name": "stdout",
     "output_type": "stream",
     "text": [
      "[{'title': 'Cerberus Hemisphere Enhanced', 'img_url': 'https://astropedia.astrogeology.usgs.gov/download/Mars/Viking/cerberus_enhanced.tif/full.jpg'}, {'title': 'Schiaparelli Hemisphere Enhanced', 'img_url': 'https://astropedia.astrogeology.usgs.gov/download/Mars/Viking/schiaparelli_enhanced.tif/full.jpg'}, {'title': 'Syrtis Major Hemisphere Enhanced', 'img_url': 'https://astropedia.astrogeology.usgs.gov/download/Mars/Viking/syrtis_major_enhanced.tif/full.jpg'}, {'title': 'Valles Marineris Hemisphere Enhanced', 'img_url': 'https://astropedia.astrogeology.usgs.gov/download/Mars/Viking/valles_marineris_enhanced.tif/full.jpg'}]\n"
     ]
    }
   ],
   "source": [
    "browser = Browser('chrome', **executable_path, headless=False)\n",
    "browser.visit(usgs_url)\n",
    "time.sleep(2)\n",
    "html = browser.html\n",
    "soup = bs(html, 'lxml')\n",
    "\n",
    "hemisphere_image_urls = []\n",
    "urls = []\n",
    "\n",
    "#Visit main page and grab URLs for each hemisphere \n",
    "hemispheres = soup.find_all('div', class_='description')\n",
    "for hemisphere in hemispheres:\n",
    "    urls.append(\"https://astrogeology.usgs.gov\"+hemisphere.a['href'])\n",
    "\n",
    "#Visit pages for each hemisphere and grab title and full image URL\n",
    "for url in urls:\n",
    "    browser.visit(url)\n",
    "    time.sleep(2)\n",
    "    html_ = browser.html\n",
    "    soup_ = bs(html_, 'lxml')\n",
    "    title = soup_.find('h2', class_='title').text\n",
    "    img_url = soup_.find('div', class_='downloads').ul.li.a['href']\n",
    "    hemisphere_image_urls.append({'title': title, 'img_url': img_url})\n",
    "\n",
    "browser.quit()\n",
    "print(hemisphere_image_urls)"
   ]
  }
 ],
 "metadata": {
  "kernelspec": {
   "display_name": "Python 3",
   "language": "python",
   "name": "python3"
  },
  "language_info": {
   "codemirror_mode": {
    "name": "ipython",
    "version": 3
   },
   "file_extension": ".py",
   "mimetype": "text/x-python",
   "name": "python",
   "nbconvert_exporter": "python",
   "pygments_lexer": "ipython3",
   "version": "3.7.7"
  }
 },
 "nbformat": 4,
 "nbformat_minor": 2
}
